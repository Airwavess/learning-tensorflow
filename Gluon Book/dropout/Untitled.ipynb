{
 "cells": [
  {
   "cell_type": "code",
   "execution_count": 1,
   "metadata": {},
   "outputs": [
    {
     "name": "stderr",
     "output_type": "stream",
     "text": [
      "/anaconda3/envs/tensorflow/lib/python3.6/site-packages/h5py/__init__.py:36: FutureWarning: Conversion of the second argument of issubdtype from `float` to `np.floating` is deprecated. In future, it will be treated as `np.float64 == np.dtype(float).type`.\n",
      "  from ._conv import register_converters as _register_converters\n"
     ]
    }
   ],
   "source": [
    "import numpy as np\n",
    "import tensorflow as tf\n",
    "\n",
    "from matplotlib import pyplot as plt\n",
    "from tensorflow import keras\n",
    "\n",
    "fashion_mnist = keras.datasets.fashion_mnist"
   ]
  },
  {
   "cell_type": "code",
   "execution_count": 2,
   "metadata": {},
   "outputs": [],
   "source": [
    "def onehot(labels):\n",
    "    n_sample = len(labels)\n",
    "    n_class = max(labels) + 1\n",
    "    onehot_labels = np.zeros((n_sample, n_class))\n",
    "    onehot_labels[np.arange(n_sample), labels] = 1\n",
    "\n",
    "    return onehot_labels"
   ]
  },
  {
   "cell_type": "code",
   "execution_count": 3,
   "metadata": {},
   "outputs": [],
   "source": [
    "(train_images, train_labels), (test_images, test_labels) = fashion_mnist.load_data()\n",
    "train_images = train_images.reshape((-1, 784))\n",
    "train_labels = onehot(train_labels)\n",
    "test_images = test_images.reshape((-1, 784))\n",
    "test_labels = onehot(test_labels)"
   ]
  },
  {
   "cell_type": "code",
   "execution_count": 4,
   "metadata": {},
   "outputs": [],
   "source": [
    "labels = {0: 'T-shirt', \n",
    "          1: 'Trouser', \n",
    "          2: 'pullover', \n",
    "          3: 'Dress', \n",
    "          4: 'Coat',\n",
    "          5: 'Sandal',\n",
    "          6: 'Shirt',\n",
    "          7: 'Sneaker',\n",
    "          8: 'Bag',\n",
    "          9: 'Ankle boot'}"
   ]
  },
  {
   "cell_type": "code",
   "execution_count": 5,
   "metadata": {},
   "outputs": [],
   "source": [
    "x = tf.placeholder(tf.float32, shape=(None, 784))\n",
    "y = tf.placeholder(tf.float32, shape=(None, 10))\n",
    "\n",
    "w1 = tf.Variable(tf.random_normal(shape=(784, 784), stddev=0.01))\n",
    "b1 = tf.Variable(tf.zeros(shape=(784)))\n",
    "w2 = tf.Variable(tf.random_normal(shape=(784, 256), stddev=0.01))\n",
    "b2 = tf.Variable(tf.zeros(shape=(256)))\n",
    "w3 = tf.Variable(tf.random_normal(shape=(256, 10), stddev=0.01))\n",
    "b3 = tf.Variable(tf.zeros(shape=(10)))\n",
    "\n",
    "hidden_layer1 = tf.add(tf.matmul(x, w1), b1)\n",
    "hidden_layer2 = tf.add(tf.matmul(hidden_layer1, w2), b2)\n",
    "pred = tf.add(tf.matmul(hidden_layer2, w3), b3)"
   ]
  },
  {
   "cell_type": "code",
   "execution_count": 6,
   "metadata": {},
   "outputs": [],
   "source": [
    "learning_rate = 0.005\n",
    "epochs = 10\n",
    "batch_size = 300"
   ]
  },
  {
   "cell_type": "code",
   "execution_count": 7,
   "metadata": {},
   "outputs": [],
   "source": [
    "loss = tf.reduce_mean(tf.nn.softmax_cross_entropy_with_logits_v2(labels=y, logits=pred))\n",
    "train = tf.train.AdamOptimizer(learning_rate).minimize(loss)\n",
    "\n",
    "correct_prediction = tf.equal(tf.argmax(pred, 1), tf.argmax(y, 1))\n",
    "accuracy = tf.reduce_mean(tf.cast(correct_prediction, 'float'))"
   ]
  },
  {
   "cell_type": "code",
   "execution_count": 8,
   "metadata": {},
   "outputs": [],
   "source": [
    "dataset = tf.data.Dataset.from_tensor_slices((train_images, train_labels))\n",
    "dataset = dataset.repeat().shuffle(batch_size).batch(batch_size)\n",
    "iterator = dataset.make_initializable_iterator()\n",
    "next_data = iterator.get_next()"
   ]
  },
  {
   "cell_type": "code",
   "execution_count": 14,
   "metadata": {
    "scrolled": false
   },
   "outputs": [
    {
     "name": "stdout",
     "output_type": "stream",
     "text": [
      "[0.78741664]\n",
      "[0.8150667]\n",
      "[0.82636666]\n",
      "[0.8207667]\n",
      "[0.80755]\n",
      "[0.8412]\n",
      "[0.75186664]\n",
      "[0.75028336]\n",
      "[0.79025]\n",
      "[0.7899]\n"
     ]
    }
   ],
   "source": [
    "train_loss, test_loss = [], []\n",
    "init = [tf.global_variables_initializer(), iterator.initializer]\n",
    "with tf.Session() as sess:\n",
    "    sess.run(init)\n",
    "    for i in range(epochs):\n",
    "        for _ in range(200):\n",
    "            batch_x, batch_y = sess.run(next_data)\n",
    "            _, l = sess.run([train, loss], feed_dict={\n",
    "                x: batch_x,\n",
    "                y: batch_y\n",
    "            })        \n",
    "        ac = sess.run([accuracy], feed_dict={\n",
    "            x: train_images,\n",
    "            y: train_labels\n",
    "        })\n",
    "        print(ac)\n",
    "        train_loss.append(sess.run(loss, feed_dict={\n",
    "            x: train_images,\n",
    "            y: train_labels\n",
    "        }))\n",
    "        test_loss.append(sess.run(loss, feed_dict={\n",
    "            x: test_images,\n",
    "            y: test_labels\n",
    "        }))\n",
    "#         print(sess.run(loss, feed_dict={\n",
    "#             x: test_images,\n",
    "#             y: test_labels\n",
    "#         }))"
   ]
  },
  {
   "cell_type": "code",
   "execution_count": 15,
   "metadata": {},
   "outputs": [
    {
     "data": {
      "text/plain": [
       "[<matplotlib.lines.Line2D at 0x104d57cc0>]"
      ]
     },
     "execution_count": 15,
     "metadata": {},
     "output_type": "execute_result"
    },
    {
     "data": {
      "image/png": "[encoded data removed]",
      "text/plain": [
       "<Figure size 432x288 with 1 Axes>"
      ]
     },
     "metadata": {},
     "output_type": "display_data"
    }
   ],
   "source": [
    "plt.semilogy(train_loss)\n",
    "plt.semilogy(test_loss)"
   ]
  },
  {
   "cell_type": "code",
   "execution_count": null,
   "metadata": {},
   "outputs": [],
   "source": []
  }
 ],
 "metadata": {
  "kernelspec": {
   "display_name": "Python 3",
   "language": "python",
   "name": "python3"
  },
  "language_info": {
   "codemirror_mode": {
    "name": "ipython",
    "version": 3
   },
   "file_extension": ".py",
   "mimetype": "text/x-python",
   "name": "python",
   "nbconvert_exporter": "python",
   "pygments_lexer": "ipython3",
   "version": "3.6.4"
  }
 },
 "nbformat": 4,
 "nbformat_minor": 2
}
