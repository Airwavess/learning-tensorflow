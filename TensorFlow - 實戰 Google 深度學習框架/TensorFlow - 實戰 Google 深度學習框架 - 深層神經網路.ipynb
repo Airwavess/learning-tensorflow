{
 "cells": [
  {
   "cell_type": "code",
   "execution_count": 1,
   "metadata": {},
   "outputs": [],
   "source": [
    "import tensorflow as tf"
   ]
  },
  {
   "cell_type": "markdown",
   "metadata": {},
   "source": [
    "# tf.clip_by_value"
   ]
  },
  {
   "cell_type": "code",
   "execution_count": 3,
   "metadata": {},
   "outputs": [
    {
     "name": "stdout",
     "output_type": "stream",
     "text": [
      "[[2.5 2.5 3. ]\n",
      " [4.  4.5 4.5]]\n"
     ]
    }
   ],
   "source": [
    "v = tf.constant([[1.0, 2.0, 3.0], [4.0, 5.0, 6.0]])\n",
    "\n",
    "with tf.Session() as sess:\n",
    "    print(tf.clip_by_value(v, 2.5, 4.5).eval())"
   ]
  },
  {
   "cell_type": "markdown",
   "metadata": {},
   "source": [
    "通過 `tf.clip_by_value` 可以將一個章輛中的數值限制在一個範圍之內，這樣可以避免一些運算錯誤(比如 $log0$ 是無效的)\n",
    "從以上範例中可以看到，小於 2.5 的樹都被換成了 2.5，而大於 4.5的數都被換成了 4.5。"
   ]
  },
  {
   "cell_type": "markdown",
   "metadata": {},
   "source": [
    "# dot product & product\n",
    "\n",
    "在 TensorFlow 中，兩個矩陣透過 $*$ 相乘，這個操錯不是矩陣乘法，而是元素之間直接相乘。\n",
    "\n",
    "矩陣乘法需要使用 `tf.matmul` 來完成。"
   ]
  },
  {
   "cell_type": "code",
   "execution_count": 4,
   "metadata": {},
   "outputs": [
    {
     "name": "stdout",
     "output_type": "stream",
     "text": [
      "[[ 5. 12.]\n",
      " [21. 32.]]\n",
      "[[19. 22.]\n",
      " [43. 50.]]\n"
     ]
    }
   ],
   "source": [
    "v1 = tf.constant([[1.0, 2.0], [3.0, 4.0]])\n",
    "v2 = tf.constant([[5.0, 6.0], [7.0, 8.0]])\n",
    "\n",
    "with tf.Session() as sess:\n",
    "    print(sess.run(v1*v2))\n",
    "    \n",
    "    print(sess.run(tf.matmul(v1, v2)))"
   ]
  },
  {
   "cell_type": "code",
   "execution_count": 11,
   "metadata": {},
   "outputs": [
    {
     "name": "stdout",
     "output_type": "stream",
     "text": [
      "0.23104906\n",
      "0.07438118\n"
     ]
    }
   ],
   "source": [
    "y_ = tf.constant([1.0, 0.0, 0.0])\n",
    "y1 = tf.constant([0.5, 0.4, 0.1])\n",
    "y2 = tf.constant([0.8, 0.1, 0.1])\n",
    "\n",
    "cross_entropy1 = -tf.reduce_mean(y_ * tf.log(tf.clip_by_value(y1, 1e-10, 1.0)))\n",
    "cross_entropy2 = -tf.reduce_mean(y_ * tf.log(tf.clip_by_value(y2, 1e-10, 1.0)))\n",
    "\n",
    "with tf.Session() as sess:\n",
    "    print(sess.run(cross_entropy1))\n",
    "    print(sess.run(cross_entropy2))"
   ]
  },
  {
   "cell_type": "code",
   "execution_count": null,
   "metadata": {},
   "outputs": [],
   "source": []
  }
 ],
 "metadata": {
  "kernelspec": {
   "display_name": "Python 3",
   "language": "python",
   "name": "python3"
  },
  "language_info": {
   "codemirror_mode": {
    "name": "ipython",
    "version": 3
   },
   "file_extension": ".py",
   "mimetype": "text/x-python",
   "name": "python",
   "nbconvert_exporter": "python",
   "pygments_lexer": "ipython3",
   "version": "3.6.5"
  }
 },
 "nbformat": 4,
 "nbformat_minor": 2
}
